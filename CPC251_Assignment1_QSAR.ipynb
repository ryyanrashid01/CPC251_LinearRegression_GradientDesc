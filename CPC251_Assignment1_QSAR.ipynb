{
  "cells": [
    {
      "cell_type": "markdown",
      "id": "00e66e9d",
      "metadata": {
        "id": "00e66e9d"
      },
      "source": [
        "# CPC251 Assignment 1\n",
        "\n",
        "#### In the assignment, you are given a dataset. The dataset is available in eLearn@USM. You need to implement the gradient descent algorithm to estimate (train) the weights of the linear regression model. You must use Python programming language with Jupyter Notebook.\n",
        "\n",
        "#### Split the given dataset into two training and test with a ratio of 8:2. Use the training set to estimate the weights and the test set to evaluate the linear regression model with the estimated weights. Define at least three (3) functions as follows:\n",
        "\n",
        "```\n",
        "def train_model(X, y, alpha, max_epoch):\n",
        "       \"\"\" Pass four arguments\n",
        "       Arguments:\n",
        "             X: input features\n",
        "             y: responses\n",
        "             alpha: learning rate\n",
        "             max_epoch: maximum epochs\n",
        "       Returns:\n",
        "             w: estimated weights\n",
        "             hist_loss: training loss history\n",
        "       \"\"\"\n",
        "def prediction(w, X):\n",
        "       \"\"\" Pass two arguments\n",
        "       Arguments:\n",
        "             w: weights\n",
        "             X: input features\n",
        "       Returns:\n",
        "             yhat: predicted values\n",
        "       \"\"\"\n",
        "def loss_fn(y, yhat):\n",
        "       \"\"\" Pass two arguments\n",
        "       Arguments:\n",
        "             y: responses\n",
        "             yhat: predicted value\n",
        "       Returns:\n",
        "             loss: loss value\n",
        "       \"\"\"\n",
        "```\n",
        "\n",
        "#### Display the training loss value for each epoch of the training loop.\n",
        "\n",
        "#### Display the estimated weights (after model training).\n",
        "\n",
        "#### Display the training loss against epoch graph (after model training).\n",
        "\n",
        "#### Evaluate the linear regression model with the estimated weights on the test set and display at least R-squared and mean squared error measures.\n",
        "\n",
        "#### Document the codes using markdown and comments."
      ]
    },
    {
      "cell_type": "code",
      "execution_count": null,
      "id": "9111bcca",
      "metadata": {
        "colab": {
          "resources": {
            "http://localhost:8080/nbextensions/google.colab/files.js": {
              "data": "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",
              "ok": true,
              "headers": [
                [
                  "content-type",
                  "application/javascript"
                ]
              ],
              "status": 200,
              "status_text": ""
            }
          },
          "base_uri": "https://localhost:8080/",
          "height": 74
        },
        "id": "9111bcca",
        "outputId": "b49c2d11-3000-47df-b7d3-9ecef90965db"
      },
      "outputs": [
        {
          "output_type": "display_data",
          "data": {
            "text/plain": [
              "<IPython.core.display.HTML object>"
            ],
            "text/html": [
              "\n",
              "     <input type=\"file\" id=\"files-1addb855-f465-4804-a357-6f9f22086d18\" name=\"files[]\" multiple disabled\n",
              "        style=\"border:none\" />\n",
              "     <output id=\"result-1addb855-f465-4804-a357-6f9f22086d18\">\n",
              "      Upload widget is only available when the cell has been executed in the\n",
              "      current browser session. Please rerun this cell to enable.\n",
              "      </output>\n",
              "      <script src=\"/nbextensions/google.colab/files.js\"></script> "
            ]
          },
          "metadata": {}
        },
        {
          "output_type": "stream",
          "name": "stdout",
          "text": [
            "Saving assignment1_dataset.csv to assignment1_dataset.csv\n"
          ]
        }
      ],
      "source": [
        "# Import libraries\n",
        "import pandas as pd\n",
        "import numpy as np\n",
        "import matplotlib.pyplot as plt\n",
        "import io\n",
        "from google.colab import files\n",
        "\n",
        "# Upload dataset file (csv)\n",
        "uploaded = files.upload()\n",
        "\n",
        "# Load csv data into dataframe\n",
        "df = pd.read_csv(io.BytesIO(uploaded['assignment1_dataset.csv']))"
      ]
    },
    {
      "cell_type": "code",
      "execution_count": null,
      "id": "2440179e",
      "metadata": {
        "id": "2440179e"
      },
      "outputs": [],
      "source": [
        "# Split the dataset into two set (training and test) with a ratio of 8:2\n",
        "training_data = df.sample(frac=0.8, random_state=25)\n",
        "testing_data = df.drop(training_data.index)\n",
        "\n",
        "# Responses\n",
        "y_train = training_data.response\n",
        "y_test = testing_data.response\n",
        "\n",
        "# Input features\n",
        "x_train = training_data.drop('response',axis=1)\n",
        "x_test = testing_data.drop('response',axis=1)\n",
        "\n",
        "# Max_epoch\n",
        "N = 100"
      ]
    },
    {
      "cell_type": "markdown",
      "id": "8d652eb2",
      "metadata": {
        "id": "8d652eb2"
      },
      "source": [
        "#### Printing shapes of testing and training sets for personal reference"
      ]
    },
    {
      "cell_type": "code",
      "execution_count": null,
      "id": "36873768",
      "metadata": {
        "colab": {
          "base_uri": "https://localhost:8080/"
        },
        "id": "36873768",
        "outputId": "28978c70-5d87-48b2-c296-3a84eed4e4a6"
      },
      "outputs": [
        {
          "output_type": "stream",
          "name": "stdout",
          "text": [
            "shape of original dataset ---- (1000, 6)\n",
            "shape of split training dataset ---- (800, 6)\n",
            "shape of split testing dataset ---- (200, 6)\n",
            "shape of input training set -- (800, 5)\n",
            "shape of output training set - (800,)\n",
            "shape of input testing set  -- (200, 5)\n",
            "shape of output testing set  - (200,)\n"
          ]
        }
      ],
      "source": [
        "print(\"shape of original dataset ----\", df.shape)\n",
        "print(\"shape of split training dataset ----\", training_data.shape)\n",
        "print(\"shape of split testing dataset ----\", testing_data.shape)\n",
        "print(\"shape of input training set --\", x_train.shape)\n",
        "print(\"shape of output training set -\", y_train.shape)\n",
        "print(\"shape of input testing set  --\", x_test.shape)\n",
        "print(\"shape of output testing set  -\", y_test.shape)"
      ]
    },
    {
      "cell_type": "markdown",
      "id": "55b3f692",
      "metadata": {
        "id": "55b3f692"
      },
      "source": [
        "#### Functions to train the model, predict the value (hypothesis) and loss (cost) function"
      ]
    },
    {
      "cell_type": "code",
      "execution_count": null,
      "id": "c3c78c9e",
      "metadata": {
        "id": "c3c78c9e"
      },
      "outputs": [],
      "source": [
        "# Fit the model to the dataset\n",
        "def train_model(X, y, alpha, max_epoch):\n",
        "    \"\"\"\n",
        "    print(\"X: \" + str(X))\n",
        "    \"\"\"\n",
        "    \n",
        "    # Get number of samples\n",
        "    m = X.shape[0]\n",
        "    ones = np.ones((m, 1))\n",
        "    # Get new X with X0's =1\n",
        "    X = np.concatenate((ones, X), axis=1)\n",
        "    n = X.shape[1]\n",
        "    theta = np.ones(n)\n",
        "    \"\"\"\n",
        "    print(\"Theta: \" + str(theta))\n",
        "    print(\"m: \" + str(m))\n",
        "    print(\"n: \" + str(n))\n",
        "    print(\"X: \" + str(X))\n",
        "    \"\"\"\n",
        "    \n",
        "    # Making hypothesis\n",
        "    h = prediction(X, theta)\n",
        "    \"\"\"\n",
        "    print(\"h: \" + str(h.shape))\n",
        "    \"\"\"\n",
        "    \n",
        "    # Gradient descent algorithm\n",
        "    hist_loss = np.ones(max_epoch)\n",
        "    for i in range(0, max_epoch):\n",
        "        theta[0] = theta[0] - (alpha/X.shape[0]) * sum(h-y)\n",
        "        for j in range(1, n):\n",
        "            theta[j] = theta[j] - (alpha/X.shape[0]) * sum((h-y) * X[:, j])\n",
        "        # Making new hypothesis\n",
        "        h = prediction(X, theta)\n",
        "        # Call loss_fn function\n",
        "        hist_loss[i] = loss_fn(m, h, y)\n",
        "        # Display the training loss value for each epoch of the training loop\n",
        "        print(\"Iteration \" + str(i + 1) + \": \" + str(hist_loss[i]))\n",
        "    return hist_loss, theta\n",
        "\n",
        "# Calculate prediction\n",
        "def prediction(X, theta):\n",
        "    yhat = np.dot(X, theta)\n",
        "    return yhat\n",
        "\n",
        "# Calculte training loss value\n",
        "def loss_fn(sample, y, yhat):\n",
        "    loss = 1/(2*sample) * sum(np.square(y-yhat))\n",
        "    return loss"
      ]
    },
    {
      "cell_type": "markdown",
      "id": "03811c60",
      "metadata": {
        "id": "03811c60"
      },
      "source": [
        "#### Training the model"
      ]
    },
    {
      "cell_type": "code",
      "execution_count": null,
      "id": "55c834d1",
      "metadata": {
        "colab": {
          "base_uri": "https://localhost:8080/"
        },
        "id": "55c834d1",
        "outputId": "fba0718a-f837-4a88-c196-2b63659eec4f"
      },
      "outputs": [
        {
          "output_type": "stream",
          "name": "stdout",
          "text": [
            "Iteration 1: 653.9810023759067\n",
            "Iteration 2: 521.7509830048905\n",
            "Iteration 3: 416.82448876433693\n",
            "Iteration 4: 333.5551228251323\n",
            "Iteration 5: 267.4658980770493\n",
            "Iteration 6: 215.00669709761416\n",
            "Iteration 7: 173.3621054471869\n",
            "Iteration 8: 140.29914223872305\n",
            "Iteration 9: 114.04659342496936\n",
            "Iteration 10: 93.19937990914521\n",
            "Iteration 11: 76.64275936118973\n",
            "Iteration 12: 63.492242612121665\n",
            "Iteration 13: 53.045962115149166\n",
            "Iteration 14: 44.74690820631945\n",
            "Iteration 15: 38.152985957974565\n",
            "Iteration 16: 32.9132707208325\n",
            "Iteration 17: 28.749177280484318\n",
            "Iteration 18: 25.439524339295133\n",
            "Iteration 19: 22.80868735990396\n",
            "Iteration 20: 20.7172002158913\n",
            "Iteration 21: 19.05429872690641\n",
            "Iteration 22: 17.7320042439037\n",
            "Iteration 23: 16.680428722629376\n",
            "Iteration 24: 15.844048715105544\n",
            "Iteration 25: 15.178748010613242\n",
            "Iteration 26: 14.649470113405624\n",
            "Iteration 27: 14.228354606379026\n",
            "Iteration 28: 13.89325750214927\n",
            "Iteration 29: 13.626576338547734\n",
            "Iteration 30: 13.414317153957557\n",
            "Iteration 31: 13.245353466091581\n",
            "Iteration 32: 13.110837678536619\n",
            "Iteration 33: 13.003733509538579\n",
            "Iteration 34: 12.918444518406055\n",
            "Iteration 35: 12.850518946347474\n",
            "Iteration 36: 12.796415167781124\n",
            "Iteration 37: 12.75331528494688\n",
            "Iteration 38: 12.71897696724638\n",
            "Iteration 39: 12.691615675292542\n",
            "Iteration 40: 12.669811027706148\n",
            "Iteration 41: 12.652432353126326\n",
            "Iteration 42: 12.638579489602552\n",
            "Iteration 43: 12.627535703155697\n",
            "Iteration 44: 12.618730240182202\n",
            "Iteration 45: 12.611708538926107\n",
            "Iteration 46: 12.606108530735254\n",
            "Iteration 47: 12.601641783910475\n",
            "Iteration 48: 12.598078498828936\n",
            "Iteration 49: 12.59523556630956\n",
            "Iteration 50: 12.592967062718513\n",
            "Iteration 51: 12.59115668367393\n",
            "Iteration 52: 12.589711720226617\n",
            "Iteration 53: 12.588558262480609\n",
            "Iteration 54: 12.587637380077622\n",
            "Iteration 55: 12.586902080216394\n",
            "Iteration 56: 12.586314884625729\n",
            "Iteration 57: 12.585845899313005\n",
            "Iteration 58: 12.585471276679973\n",
            "Iteration 59: 12.585171990094935\n",
            "Iteration 60: 12.584932857316085\n",
            "Iteration 61: 12.58474176213329\n",
            "Iteration 62: 12.584589033916258\n",
            "Iteration 63: 12.584466952972132\n",
            "Iteration 64: 12.584369356151623\n",
            "Iteration 65: 12.584291322346171\n",
            "Iteration 66: 12.58422892166048\n",
            "Iteration 67: 12.584179015343189\n",
            "Iteration 68: 12.584139096183131\n",
            "Iteration 69: 12.584107161170062\n",
            "Iteration 70: 12.584081609884748\n",
            "Iteration 71: 12.584061163408606\n",
            "Iteration 72: 12.584044799600939\n",
            "Iteration 73: 12.584031701433151\n",
            "Iteration 74: 12.584021215740439\n",
            "Iteration 75: 12.584012820286166\n",
            "Iteration 76: 12.584006097460122\n",
            "Iteration 77: 12.584000713271742\n",
            "Iteration 78: 12.583996400570152\n",
            "Iteration 79: 12.58399294563848\n",
            "Iteration 80: 12.583990177482866\n",
            "Iteration 81: 12.583987959273175\n",
            "Iteration 82: 12.583986181501967\n",
            "Iteration 83: 12.583984756516744\n",
            "Iteration 84: 12.583983614148272\n",
            "Iteration 85: 12.583982698215825\n",
            "Iteration 86: 12.58398196373209\n",
            "Iteration 87: 12.583981374668085\n",
            "Iteration 88: 12.583980902165226\n",
            "Iteration 89: 12.583980523105083\n",
            "Iteration 90: 12.583980218965035\n",
            "Iteration 91: 12.58397997490259\n",
            "Iteration 92: 12.58397977902252\n",
            "Iteration 93: 12.583979621790245\n",
            "Iteration 94: 12.583979495562449\n",
            "Iteration 95: 12.583979394210814\n",
            "Iteration 96: 12.5839793128213\n",
            "Iteration 97: 12.583979247452769\n",
            "Iteration 98: 12.583979194944074\n",
            "Iteration 99: 12.583979152759262\n",
            "Iteration 100: 12.583979118863596\n"
          ]
        }
      ],
      "source": [
        "# Get started to training process\n",
        "cost, w = train_model(x_train, y_train, 0.1, N) # Common learning rate: 0.1, 0.01, 0.001\n",
        "                                                   # Use smaller learning rate, larger iterations to get better result"
      ]
    },
    {
      "cell_type": "code",
      "execution_count": null,
      "id": "a13fa2f3",
      "metadata": {
        "colab": {
          "base_uri": "https://localhost:8080/",
          "height": 470
        },
        "id": "a13fa2f3",
        "outputId": "426edbeb-4e28-40e2-ac19-ef482055ba1b"
      },
      "outputs": [
        {
          "output_type": "stream",
          "name": "stdout",
          "text": [
            "Estimated weights:\n",
            "w0 : 9.648021553456287\n",
            "w1 : 11.926237375976964\n",
            "w2 : -0.15240746421764612\n",
            "w3 : 0.02464271106534751\n",
            "w4 : 36.87657773691043\n",
            "w5 : 0.20187129589094868\n",
            "\n",
            "\n"
          ]
        },
        {
          "output_type": "display_data",
          "data": {
            "text/plain": [
              "<Figure size 432x288 with 1 Axes>"
            ],
            "image/png": "[encoded data removed]"
          },
          "metadata": {
            "needs_background": "light"
          }
        },
        {
          "output_type": "stream",
          "name": "stdout",
          "text": [
            "Lowest cost = 12.583979118863596\n",
            "Cost after 100 iterations = 12.583979118863596\n"
          ]
        }
      ],
      "source": [
        "# Display estimated weight after model training\n",
        "print(\"Estimated weights:\")\n",
        "for i in range(w.size):\n",
        "    print(\"w\" + str(i) + \" : \" + str(w[i]))\n",
        "\n",
        "print(\"\\n\")\n",
        "\n",
        "# Display the training loss against epoch graph after model training\n",
        "plt.plot(cost)\n",
        "plt.xlabel(\"Epoch (number of iteration)\")\n",
        "plt.ylabel(\"Cost or Loss\")\n",
        "plt.show()\n",
        "print(\"Lowest cost = \" + str(np.min(cost)))\n",
        "print(\"Cost after \" + str(N) + \" iterations = \" + str(cost[-1]))"
      ]
    },
    {
      "cell_type": "markdown",
      "id": "bd48900c",
      "metadata": {
        "id": "bd48900c"
      },
      "source": [
        "#### Error Functions"
      ]
    },
    {
      "cell_type": "code",
      "execution_count": null,
      "id": "2d1b1f80",
      "metadata": {
        "id": "2d1b1f80"
      },
      "outputs": [],
      "source": [
        "def R_Square_Err(x_test, weights, y_test):\n",
        "    # Formula R_Square_Err = 1 - Summation(yi - yi_hat)^2/Summation(yi - y_bar)^2\n",
        "    \n",
        "    # Get the mean of y_test\n",
        "    y_bar = y_test.mean()\n",
        "    \n",
        "    # Calculate prediction for each input\n",
        "    y_hat = prediction(x_test, weights)\n",
        "    \n",
        "    # Calculate numerator and denominator for the formula\n",
        "    numerator = np.sum(np.power(y_test.subtract(y_hat), 2))\n",
        "    denominator = np.sum(np.power(y_test.subtract(y_bar), 2))\n",
        "    \n",
        "    # Solve the formula\n",
        "    r_sq_err = 1 - (numerator/denominator)\n",
        "    \n",
        "    # Return the value of R_Square_Err\n",
        "    return r_sq_err\n",
        "\n",
        "def MSE(x_test, weights, y_test):\n",
        "    # Formula MSE = 1/n * Summation(yi - yi_hat)^2\n",
        "    \n",
        "    # Calculate prediction for each input\n",
        "    y_hat = prediction(x_test, weights)\n",
        "    \n",
        "    # Calculate Summation*yi - yi_hat)^2\n",
        "    sum_square_diff = np.sum(np.power(y_test.subtract(y_hat), 2))\n",
        "\n",
        "    # Solve the formula\n",
        "    mse = sum_square_diff/y_test.size\n",
        "    \n",
        "    # Return the value of MSE\n",
        "    return mse\n",
        "\n",
        "def MAE(x_test, weights, y_test):\n",
        "    # Formula MAE = 1/n & Summation(abs(yi - yi_hat))\n",
        "    \n",
        "    # Calculate prediction for each input\n",
        "    y_hat = prediction(x_test, weights)\n",
        "    \n",
        "    # Calculate Summation((abs(yi - yi_hat))\n",
        "    sum_abs_diff = np.sum(np.absolute(y_test.subtract(y_hat)))\n",
        "    \n",
        "    # Calculate the formula\n",
        "    mae = sum_abs_diff/y_test.size\n",
        "    \n",
        "    # Return the value of MAE\n",
        "    return mae"
      ]
    },
    {
      "cell_type": "markdown",
      "id": "5eb32e3d",
      "metadata": {
        "id": "5eb32e3d"
      },
      "source": [
        "#### Evaluating Linear Regression Model and Displaying Errors"
      ]
    },
    {
      "cell_type": "code",
      "execution_count": null,
      "id": "59d18eb8",
      "metadata": {
        "id": "59d18eb8"
      },
      "outputs": [],
      "source": [
        "# Add the column x0 = 1 for all rows\n",
        "x_test = np.concatenate((np.ones((x_test.shape[0], 1)), x_test), axis=1)"
      ]
    },
    {
      "cell_type": "code",
      "execution_count": null,
      "id": "85e638a6",
      "metadata": {
        "colab": {
          "base_uri": "https://localhost:8080/",
          "height": 577
        },
        "id": "85e638a6",
        "outputId": "743f1adf-b45f-4455-cfb1-63f37a7cdff0"
      },
      "outputs": [
        {
          "output_type": "display_data",
          "data": {
            "text/plain": [
              "<Figure size 432x288 with 1 Axes>"
            ],
            "image/png": "[encoded data removed]"
          },
          "metadata": {
            "needs_background": "light"
          }
        },
        {
          "output_type": "stream",
          "name": "stdout",
          "text": [
            "\n",
            "Estimated weights:\n",
            "w0 : 9.648021553456287\n",
            "w1 : 11.926237375976964\n",
            "w2 : -0.15240746421764612\n",
            "w3 : 0.02464271106534751\n",
            "w4 : 36.87657773691043\n",
            "w5 : 0.20187129589094868\n",
            "\n",
            "Hypothesis: \n",
            "h(f0, f1, f2, f3, f4, f5) = (9.648021553456287 * f0) + (11.926237375976964 * f1) + (-0.15240746421764612 * f2) + (0.02464271106534751 * f3) + (36.87657773691043 * f4) + (0.20187129589094868 * f5)\n",
            "\n",
            "Error measurements: \n",
            "R-squared Error for the hypothesis is: 0.9831246942622107\n",
            "Mean Squared Error for the hypothesis is: 24.30929387147798\n",
            "Mean Absolute Error for the hypothesis is: 4.0426893285659355\n"
          ]
        }
      ],
      "source": [
        "# Display Y predicted against Y test\n",
        "    \n",
        "# Calculate prediction for each input\n",
        "y_hat = prediction(x_test, w)\n",
        "    \n",
        "plt.scatter(y_hat, y_test)\n",
        "\n",
        "plt.xlabel(\"Hypothesis\")\n",
        "plt.ylabel( \"y-test\")\n",
        "\n",
        "# Linear plot\n",
        "x = np.linspace(-75, 120, 100)\n",
        "y = x\n",
        "plt.plot(x, y, 'r', linewidth=4)\n",
        "plt.show()\n",
        "\n",
        "# Display estimated weights\n",
        "print(\"\\nEstimated weights:\")\n",
        "for i in range(w.size):\n",
        "    print(\"w\" + str(i) + \" : \" + str(w[i]))\n",
        "    \n",
        "# Display errors\n",
        "r_square_err = R_Square_Err(x_test, w, y_test)\n",
        "mse = MSE(x_test, w, y_test)\n",
        "mae = MAE(x_test, w, y_test)\n",
        "\n",
        "print(\"\\nHypothesis: \")\n",
        "print(\"h(f0, f1, f2, f3, f4, f5) = \", end = \"\")\n",
        "for i in range(w.size):\n",
        "    print(\"(\" + str(w[i])+ \" * f\" + str(i) + \")\", end = \"\")\n",
        "    if (i != w.size - 1):\n",
        "        print(\" + \", end = \"\")\n",
        "\n",
        "print(\"\\n\\nError measurements: \")\n",
        "print(\"R-squared Error for the hypothesis is: \" + str(r_square_err))\n",
        "print(\"Mean Squared Error for the hypothesis is: \" + str(mse))\n",
        "print(\"Mean Absolute Error for the hypothesis is: \" + str(mae))"
      ]
    }
  ],
  "metadata": {
    "kernelspec": {
      "display_name": "Python 3 (ipykernel)",
      "language": "python",
      "name": "python3"
    },
    "language_info": {
      "codemirror_mode": {
        "name": "ipython",
        "version": 3
      },
      "file_extension": ".py",
      "mimetype": "text/x-python",
      "name": "python",
      "nbconvert_exporter": "python",
      "pygments_lexer": "ipython3",
      "version": "3.9.7"
    },
    "colab": {
      "name": "CPC251_Assignment1_QSAR.ipynb",
      "provenance": []
    }
  },
  "nbformat": 4,
  "nbformat_minor": 5
}