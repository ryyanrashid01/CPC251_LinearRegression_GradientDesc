{
 "cells": [
  {
   "cell_type": "markdown",
   "id": "00e66e9d",
   "metadata": {},
   "source": [
    "# CPC251 Assignment 1\n",
    "### Group QSAR_4 Members\n",
    "\n",
    "```\n",
    "Chuah Tiong Guan        152686\n",
    "Koh Yung Kwang          153396\n",
    "Mohammad Ryyan Rashid   154490\n",
    "Wong Leh Ling           152657\n",
    "```"
   ]
  },
  {
   "cell_type": "code",
   "execution_count": 1,
   "id": "9111bcca",
   "metadata": {},
   "outputs": [],
   "source": [
    "# Import libraries\n",
    "import pandas as pd\n",
    "import numpy as np\n",
    "import matplotlib.pyplot as plt\n",
    "\n",
    "# Load csv data into dataframe\n",
    "df = pd.read_csv('/Users/ryyan/Downloads/Assignment 1/assignment1_dataset.csv')"
   ]
  },
  {
   "cell_type": "code",
   "execution_count": 2,
   "id": "2440179e",
   "metadata": {},
   "outputs": [],
   "source": [
    "# Split the dataset into two set (training and test) with a ratio of 8:2\n",
    "training_data = df.sample(frac=0.8, random_state=25)\n",
    "testing_data = df.drop(training_data.index)\n",
    "\n",
    "# Responses\n",
    "y_train = training_data.response\n",
    "y_test = testing_data.response\n",
    "\n",
    "# Input features\n",
    "x_train = training_data.drop('response',axis=1)\n",
    "x_test = testing_data.drop('response',axis=1)\n",
    "\n",
    "# Max_epoch\n",
    "N = 100"
   ]
  },
  {
   "cell_type": "markdown",
   "id": "8d652eb2",
   "metadata": {},
   "source": [
    "#### Printing shapes of testing and training sets for personal reference"
   ]
  },
  {
   "cell_type": "code",
   "execution_count": 3,
   "id": "36873768",
   "metadata": {},
   "outputs": [
    {
     "name": "stdout",
     "output_type": "stream",
     "text": [
      "shape of original dataset ---- (1000, 6)\n",
      "shape of split training dataset ---- (800, 6)\n",
      "shape of split testing dataset ---- (200, 6)\n",
      "shape of input training set -- (800, 5)\n",
      "shape of output training set - (800,)\n",
      "shape of input testing set  -- (200, 5)\n",
      "shape of output testing set  - (200,)\n"
     ]
    }
   ],
   "source": [
    "print(\"shape of original dataset ----\", df.shape)\n",
    "print(\"shape of split training dataset ----\", training_data.shape)\n",
    "print(\"shape of split testing dataset ----\", testing_data.shape)\n",
    "print(\"shape of input training set --\", x_train.shape)\n",
    "print(\"shape of output training set -\", y_train.shape)\n",
    "print(\"shape of input testing set  --\", x_test.shape)\n",
    "print(\"shape of output testing set  -\", y_test.shape)"
   ]
  },
  {
   "cell_type": "markdown",
   "id": "55b3f692",
   "metadata": {},
   "source": [
    "#### Functions to train the model, predict the value (hypothesis) and loss (cost) function"
   ]
  },
  {
   "cell_type": "code",
   "execution_count": 4,
   "id": "c3c78c9e",
   "metadata": {},
   "outputs": [],
   "source": [
    "# Fit the model to the dataset\n",
    "def train_model(X, y, alpha, max_epoch):\n",
    "    \"\"\"\n",
    "    print(\"X: \" + str(X))\n",
    "    \"\"\"\n",
    "    \n",
    "    # Get number of samples\n",
    "    m = X.shape[0]\n",
    "    ones = np.ones((m, 1))\n",
    "    # Get new X with X0's =1\n",
    "    X = np.concatenate((ones, X), axis=1)\n",
    "    n = X.shape[1]\n",
    "    theta = np.ones(n)\n",
    "    \"\"\"\n",
    "    print(\"Theta: \" + str(theta))\n",
    "    print(\"m: \" + str(m))\n",
    "    print(\"n: \" + str(n))\n",
    "    print(\"X: \" + str(X))\n",
    "    \"\"\"\n",
    "    \n",
    "    # Making hypothesis\n",
    "    h = prediction(X, theta)\n",
    "    \"\"\"\n",
    "    print(\"h: \" + str(h.shape))\n",
    "    \"\"\"\n",
    "    \n",
    "    # Gradient descent algorithm\n",
    "    hist_loss = np.ones(max_epoch)\n",
    "    for i in range(0, max_epoch):\n",
    "        theta[0] = theta[0] - (alpha/X.shape[0]) * sum(h-y)\n",
    "        for j in range(1, n):\n",
    "            theta[j] = theta[j] - (alpha/X.shape[0]) * sum((h-y) * X[:, j])\n",
    "        # Making new hypothesis\n",
    "        h = prediction(X, theta)\n",
    "        # Call loss_fn function\n",
    "        hist_loss[i] = loss_fn(m, h, y)\n",
    "        # Display the training loss value for each epoch of the training loop\n",
    "        print(\"Iteration \" + str(i + 1) + \": \" + str(hist_loss[i]))\n",
    "    return hist_loss, theta\n",
    "\n",
    "# Calculate prediction\n",
    "def prediction(X, theta):\n",
    "    yhat = np.dot(X, theta)\n",
    "    return yhat\n",
    "\n",
    "# Calculte training loss value\n",
    "def loss_fn(sample, y, yhat):\n",
    "    loss = 1/(2*sample) * sum(np.square(y-yhat))\n",
    "    return loss"
   ]
  },
  {
   "cell_type": "markdown",
   "id": "03811c60",
   "metadata": {},
   "source": [
    "#### Training the model"
   ]
  },
  {
   "cell_type": "code",
   "execution_count": 5,
   "id": "55c834d1",
   "metadata": {},
   "outputs": [
    {
     "name": "stdout",
     "output_type": "stream",
     "text": [
      "Iteration 1: 653.9810023759067\n",
      "Iteration 2: 521.7509830048905\n",
      "Iteration 3: 416.82448876433693\n",
      "Iteration 4: 333.55512282513234\n",
      "Iteration 5: 267.46589807704925\n",
      "Iteration 6: 215.0066970976142\n",
      "Iteration 7: 173.36210544718696\n",
      "Iteration 8: 140.29914223872305\n",
      "Iteration 9: 114.04659342496936\n",
      "Iteration 10: 93.19937990914521\n",
      "Iteration 11: 76.64275936118973\n",
      "Iteration 12: 63.49224261212167\n",
      "Iteration 13: 53.045962115149166\n",
      "Iteration 14: 44.74690820631944\n",
      "Iteration 15: 38.152985957974565\n",
      "Iteration 16: 32.9132707208325\n",
      "Iteration 17: 28.749177280484318\n",
      "Iteration 18: 25.439524339295133\n",
      "Iteration 19: 22.808687359903953\n",
      "Iteration 20: 20.717200215891268\n",
      "Iteration 21: 19.054298726906385\n",
      "Iteration 22: 17.73200424390368\n",
      "Iteration 23: 16.68042872262936\n",
      "Iteration 24: 15.844048715105524\n",
      "Iteration 25: 15.178748010613226\n",
      "Iteration 26: 14.64947011340561\n",
      "Iteration 27: 14.228354606379003\n",
      "Iteration 28: 13.893257502149268\n",
      "Iteration 29: 13.626576338547714\n",
      "Iteration 30: 13.414317153957546\n",
      "Iteration 31: 13.245353466091581\n",
      "Iteration 32: 13.110837678536628\n",
      "Iteration 33: 13.00373350953858\n",
      "Iteration 34: 12.918444518406057\n",
      "Iteration 35: 12.85051894634748\n",
      "Iteration 36: 12.796415167781122\n",
      "Iteration 37: 12.753315284946883\n",
      "Iteration 38: 12.718976967246379\n",
      "Iteration 39: 12.691615675292544\n",
      "Iteration 40: 12.669811027706153\n",
      "Iteration 41: 12.652432353126322\n",
      "Iteration 42: 12.638579489602556\n",
      "Iteration 43: 12.627535703155703\n",
      "Iteration 44: 12.618730240182202\n",
      "Iteration 45: 12.611708538926107\n",
      "Iteration 46: 12.606108530735254\n",
      "Iteration 47: 12.60164178391048\n",
      "Iteration 48: 12.598078498828931\n",
      "Iteration 49: 12.595235566309562\n",
      "Iteration 50: 12.592967062718511\n",
      "Iteration 51: 12.591156683673935\n",
      "Iteration 52: 12.58971172022662\n",
      "Iteration 53: 12.58855826248061\n",
      "Iteration 54: 12.587637380077622\n",
      "Iteration 55: 12.586902080216396\n",
      "Iteration 56: 12.586314884625724\n",
      "Iteration 57: 12.585845899313009\n",
      "Iteration 58: 12.585471276679975\n",
      "Iteration 59: 12.58517199009493\n",
      "Iteration 60: 12.584932857316085\n",
      "Iteration 61: 12.584741762133287\n",
      "Iteration 62: 12.584589033916258\n",
      "Iteration 63: 12.584466952972132\n",
      "Iteration 64: 12.584369356151626\n",
      "Iteration 65: 12.58429132234617\n",
      "Iteration 66: 12.584228921660483\n",
      "Iteration 67: 12.584179015343194\n",
      "Iteration 68: 12.584139096183135\n",
      "Iteration 69: 12.58410716117006\n",
      "Iteration 70: 12.584081609884748\n",
      "Iteration 71: 12.584061163408608\n",
      "Iteration 72: 12.584044799600939\n",
      "Iteration 73: 12.584031701433148\n",
      "Iteration 74: 12.584021215740433\n",
      "Iteration 75: 12.584012820286164\n",
      "Iteration 76: 12.584006097460119\n",
      "Iteration 77: 12.584000713271747\n",
      "Iteration 78: 12.583996400570145\n",
      "Iteration 79: 12.58399294563848\n",
      "Iteration 80: 12.583990177482875\n",
      "Iteration 81: 12.583987959273173\n",
      "Iteration 82: 12.583986181501967\n",
      "Iteration 83: 12.583984756516745\n",
      "Iteration 84: 12.583983614148273\n",
      "Iteration 85: 12.583982698215825\n",
      "Iteration 86: 12.583981963732093\n",
      "Iteration 87: 12.583981374668088\n",
      "Iteration 88: 12.583980902165226\n",
      "Iteration 89: 12.58398052310508\n",
      "Iteration 90: 12.583980218965035\n",
      "Iteration 91: 12.583979974902594\n",
      "Iteration 92: 12.58397977902252\n",
      "Iteration 93: 12.583979621790249\n",
      "Iteration 94: 12.583979495562446\n",
      "Iteration 95: 12.583979394210816\n",
      "Iteration 96: 12.583979312821302\n",
      "Iteration 97: 12.583979247452769\n",
      "Iteration 98: 12.58397919494408\n",
      "Iteration 99: 12.583979152759259\n",
      "Iteration 100: 12.583979118863601\n"
     ]
    }
   ],
   "source": [
    "# Get started to training process\n",
    "cost, w = train_model(x_train, y_train, 0.1, N) # Common learning rate: 0.1, 0.01, 0.001\n",
    "                                                   # Use smaller learning rate, larger iterations to get better result"
   ]
  },
  {
   "cell_type": "code",
   "execution_count": 6,
   "id": "a13fa2f3",
   "metadata": {},
   "outputs": [
    {
     "name": "stdout",
     "output_type": "stream",
     "text": [
      "Estimated weights:\n",
      "w0 : 9.648021553456287\n",
      "w1 : 11.926237375976964\n",
      "w2 : -0.15240746421764606\n",
      "w3 : 0.024642711065347614\n",
      "w4 : 36.87657773691043\n",
      "w5 : 0.20187129589094868\n"
     ]
    },
    {
     "data": {
      "image/png": "[encoded data removed]",
      "text/plain": [
       "<Figure size 432x288 with 1 Axes>"
      ]
     },
     "metadata": {
      "needs_background": "light"
     },
     "output_type": "display_data"
    },
    {
     "name": "stdout",
     "output_type": "stream",
     "text": [
      "Lowest cost = 12.583979118863601\n",
      "Cost after 100 iterations = 12.583979118863601\n"
     ]
    }
   ],
   "source": [
    "# Display estimated weight after model training\n",
    "print(\"Estimated weights:\")\n",
    "for i in range(w.size):\n",
    "    print(\"w\" + str(i) + \" : \" + str(w[i]))\n",
    "\n",
    "# Display the training loss against epoch graph after model training\n",
    "plt.plot(cost)\n",
    "plt.xlabel(\"Epoch (number of iteration)\")\n",
    "plt.ylabel(\"Cost or Loss\")\n",
    "plt.show()\n",
    "print(\"Lowest cost = \" + str(np.min(cost)))\n",
    "print(\"Cost after \" + str(N) + \" iterations = \" + str(cost[-1]))"
   ]
  },
  {
   "cell_type": "markdown",
   "id": "bd48900c",
   "metadata": {},
   "source": [
    "#### Error Functions"
   ]
  },
  {
   "cell_type": "code",
   "execution_count": 7,
   "id": "2d1b1f80",
   "metadata": {},
   "outputs": [],
   "source": [
    "def R_Square_Err(x_test, weights, y_test):\n",
    "    # Formula R_Square_Err = 1 - Summation(yi - yi_hat)^2/Summation(yi - y_bar)^2\n",
    "    \n",
    "    # Get the mean of y_test\n",
    "    y_bar = y_test.mean()\n",
    "    \n",
    "    # Calculate prediction for each input\n",
    "    y_hat = prediction(x_test, weights)\n",
    "    \n",
    "    # Calculate numerator and denominator for the formula\n",
    "    numerator = np.sum(np.power(y_test.subtract(y_hat), 2))\n",
    "    denominator = np.sum(np.power(y_test.subtract(y_bar), 2))\n",
    "    \n",
    "    # Solve the formula\n",
    "    r_sq_err = 1 - (numerator/denominator)\n",
    "    \n",
    "    # Return the value of R_Square_Err\n",
    "    return r_sq_err\n",
    "\n",
    "def MSE(x_test, weights, y_test):\n",
    "    # Formula MSE = 1/n * Summation(yi - yi_hat)^2\n",
    "    \n",
    "    # Calculate prediction for each input\n",
    "    y_hat = prediction(x_test, weights)\n",
    "    \n",
    "    # Calculate Summation*yi - yi_hat)^2\n",
    "    sum_square_diff = np.sum(np.power(y_test.subtract(y_hat), 2))\n",
    "\n",
    "    # Solve the formula\n",
    "    mse = sum_square_diff/y_test.size\n",
    "    \n",
    "    # Return the value of MSE\n",
    "    return mse\n",
    "\n",
    "def MAE(x_test, weights, y_test):\n",
    "    # Formula MAE = 1/n & Summation(abs(yi - yi_hat))\n",
    "    \n",
    "    # Calculate prediction for each input\n",
    "    y_hat = prediction(x_test, weights)\n",
    "    \n",
    "    # Calculate Summation((abs(yi - yi_hat))\n",
    "    sum_abs_diff = np.sum(np.absolute(y_test.subtract(y_hat)))\n",
    "    \n",
    "    # Calculate the formula\n",
    "    mae = sum_abs_diff/y_test.size\n",
    "    \n",
    "    # Return the value of MAE\n",
    "    return mae"
   ]
  },
  {
   "cell_type": "markdown",
   "id": "5eb32e3d",
   "metadata": {},
   "source": [
    "#### Evaluating Linear Regression Model and Displaying Errors"
   ]
  },
  {
   "cell_type": "code",
   "execution_count": 8,
   "id": "59d18eb8",
   "metadata": {},
   "outputs": [],
   "source": [
    "# Add the column x0 = 1 for all rows\n",
    "x_test = np.concatenate((np.ones((x_test.shape[0], 1)), x_test), axis=1)"
   ]
  },
  {
   "cell_type": "code",
   "execution_count": 18,
   "id": "85e638a6",
   "metadata": {},
   "outputs": [
    {
     "data": {
      "image/png": "[encoded data removed]",
      "text/plain": [
       "<Figure size 432x288 with 1 Axes>"
      ]
     },
     "metadata": {
      "needs_background": "light"
     },
     "output_type": "display_data"
    },
    {
     "name": "stdout",
     "output_type": "stream",
     "text": [
      "Estimated weights:\n",
      "w0 : 9.648021553456287\n",
      "w1 : 11.926237375976964\n",
      "w2 : -0.15240746421764606\n",
      "w3 : 0.024642711065347614\n",
      "w4 : 36.87657773691043\n",
      "w5 : 0.20187129589094868\n",
      "\n",
      "Hypothesis: \n",
      "h(f0, f1, f2, f3, f4, f5) = (9.648021553456287 * f0) + (11.926237375976964 * f1) + (-0.15240746421764606 * f2) + (0.024642711065347614 * f3) + (36.87657773691043 * f4) + (0.20187129589094868 * f5)\n",
      "\n",
      "Error measurements: \n",
      "R-squared Error for the hypothesis is: 0.9831246942622107\n",
      "Mean Squared Error for the hypothesis is: 24.30929387147798\n",
      "Mean Absolute Error for the hypothesis is: 4.042689328565936\n"
     ]
    }
   ],
   "source": [
    "# Display Y predicted against Y test\n",
    "    \n",
    "# Calculate prediction for each input\n",
    "y_hat = prediction(x_test, w)\n",
    "    \n",
    "plt.scatter(y_hat, y_test)\n",
    "\n",
    "plt.xlabel(\"Hypothesis\")\n",
    "plt.ylabel( \"y-test\")\n",
    "\n",
    "# Linear plot\n",
    "x = np.linspace(-75, 120, 100)\n",
    "y = x\n",
    "plt.plot(x, y, 'r', linewidth=4)\n",
    "plt.show()\n",
    "\n",
    "# Display estimated weights\n",
    "print(\"Estimated weights:\")\n",
    "for i in range(w.size):\n",
    "    print(\"w\" + str(i) + \" : \" + str(w[i]))\n",
    "    \n",
    "# Display errors\n",
    "r_square_err = R_Square_Err(x_test, w, y_test)\n",
    "mse = MSE(x_test, w, y_test)\n",
    "mae = MAE(x_test, w, y_test)\n",
    "\n",
    "print(\"\\nHypothesis: \")\n",
    "print(\"h(f0, f1, f2, f3, f4, f5) = \", end = \"\")\n",
    "for i in range(w.size):\n",
    "    print(\"(\" + str(w[i])+ \" * f\" + str(i) + \")\", end = \"\")\n",
    "    if (i != w.size - 1):\n",
    "        print(\" + \", end = \"\")\n",
    "\n",
    "print(\"\\n\\nError measurements: \")\n",
    "print(\"R-squared Error for the hypothesis is: \" + str(r_square_err))\n",
    "print(\"Mean Squared Error for the hypothesis is: \" + str(mse))\n",
    "print(\"Mean Absolute Error for the hypothesis is: \" + str(mae))"
   ]
  },
  {
   "cell_type": "markdown",
   "id": "67dc00cc",
   "metadata": {},
   "source": [
    "#### For personal reference"
   ]
  },
  {
   "cell_type": "code",
   "execution_count": 10,
   "id": "f61930e4",
   "metadata": {},
   "outputs": [
    {
     "ename": "NameError",
     "evalue": "name 'SGDRegressor' is not defined",
     "output_type": "error",
     "traceback": [
      "\u001b[0;31m---------------------------------------------------------------------------\u001b[0m",
      "\u001b[0;31mNameError\u001b[0m                                 Traceback (most recent call last)",
      "\u001b[0;32m/var/folders/cd/p_j1jp1n5jl911bfpdw_ybd80000gn/T/ipykernel_78463/881897800.py\u001b[0m in \u001b[0;36m<module>\u001b[0;34m\u001b[0m\n\u001b[1;32m      1\u001b[0m \u001b[0;31m# For own referencefrom sklearn.linear_model import SGDRegressor\u001b[0m\u001b[0;34m\u001b[0m\u001b[0;34m\u001b[0m\u001b[0m\n\u001b[0;32m----> 2\u001b[0;31m reg_gd = SGDRegressor(loss='huber', eta0=0.1, max_iter=6000,\n\u001b[0m\u001b[1;32m      3\u001b[0m early_stopping=False, tol=None, verbose=1, random_state=1)\n\u001b[1;32m      4\u001b[0m \u001b[0mreg_gd\u001b[0m\u001b[0;34m.\u001b[0m\u001b[0mfit\u001b[0m\u001b[0;34m(\u001b[0m\u001b[0mx_train\u001b[0m\u001b[0;34m,\u001b[0m \u001b[0my_train\u001b[0m\u001b[0;34m)\u001b[0m\u001b[0;34m\u001b[0m\u001b[0;34m\u001b[0m\u001b[0m\n\u001b[1;32m      5\u001b[0m \u001b[0my_pred_gd\u001b[0m \u001b[0;34m=\u001b[0m \u001b[0mreg_gd\u001b[0m\u001b[0;34m.\u001b[0m\u001b[0mpredict\u001b[0m\u001b[0;34m(\u001b[0m\u001b[0mx_test\u001b[0m\u001b[0;34m)\u001b[0m\u001b[0;34m\u001b[0m\u001b[0;34m\u001b[0m\u001b[0m\n",
      "\u001b[0;31mNameError\u001b[0m: name 'SGDRegressor' is not defined"
     ]
    }
   ],
   "source": [
    "# For own referencefrom sklearn.linear_model import SGDRegressor\n",
    "reg_gd = SGDRegressor(loss='huber', eta0=0.1, max_iter=6000,\n",
    "early_stopping=False, tol=None, verbose=1, random_state=1)\n",
    "reg_gd.fit(x_train, y_train)\n",
    "y_pred_gd = reg_gd.predict(x_test)\n",
    "\n",
    "from sklearn.metrics import mean_absolute_error, mean_squared_error, r2_score\n",
    "print(mean_absolute_error(y_test, y_pred_gd))\n",
    "print(mean_squared_error(y_test, y_pred_gd))\n",
    "print(r2_score(y_test, y_pred_gd))"
   ]
  },
  {
   "cell_type": "code",
   "execution_count": null,
   "id": "55ec12b1",
   "metadata": {},
   "outputs": [],
   "source": [
    "from sklearn.linear_model import LinearRegression\n",
    "lin_reg = LinearRegression()\n",
    "lin_reg.fit(x_train, y_train)\n",
    "lin_reg.intercept_, lin_reg.coef_"
   ]
  }
 ],
 "metadata": {
  "kernelspec": {
   "display_name": "Python 3 (ipykernel)",
   "language": "python",
   "name": "python3"
  },
  "language_info": {
   "codemirror_mode": {
    "name": "ipython",
    "version": 3
   },
   "file_extension": ".py",
   "mimetype": "text/x-python",
   "name": "python",
   "nbconvert_exporter": "python",
   "pygments_lexer": "ipython3",
   "version": "3.9.7"
  }
 },
 "nbformat": 4,
 "nbformat_minor": 5
}
